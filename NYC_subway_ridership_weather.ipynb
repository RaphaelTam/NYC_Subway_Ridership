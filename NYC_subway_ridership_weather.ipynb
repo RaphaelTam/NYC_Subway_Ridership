{
 "metadata": {
  "name": "",
  "signature": "sha256:6255a1a4f299dd3e3e4478c50f191e276d947a008be2833a0613771472cb05e0"
 },
 "nbformat": 3,
 "nbformat_minor": 0,
 "worksheets": [
  {
   "cells": [
    {
     "cell_type": "code",
     "collapsed": false,
     "input": [
      "The objective of this project is to analyze NYC subway ridership and weather data to answer the following question: do more \n",
      "    people ride the subway when it rains.  Turnstyle entry data by turnstyle, data, time and weather data such as rain, \n",
      "    temperature, fog, pressure, precipitation and windspeed is provided.  There are over 130,000 data points for May, 2011.\n",
      "    \n",
      "The data is analyzed in 5 sections: Statistical Test, Linear Regression, Visualization, Conclusion and Observation.  \n",
      "\n",
      "Stattistical Test uses Man_Whitney U test to validate the null hypothesis that the population of riders and their probability \n",
      "of using the subway when it rains is the same as that when it does not.\n",
      "\n",
      "Linear Regression predicts ridership based on rain and other variables and calculates R2 - a measure of the goodness of fit.\n",
      "\n",
      "Trying to gain insights through visualiation, histograms of ridership with and without rain are shown in Section 3.\n",
      "Ridership by day of the week is also plotted to see the signficance of this factor.\n",
      "\n",
      "Conclusion anwwers the question.\n",
      "\n",
      "Comments on shortcomings of the dataset is provided in Reflection.\n",
      " \n"
     ],
     "language": "python",
     "metadata": {},
     "outputs": []
    },
    {
     "cell_type": "heading",
     "level": 1,
     "metadata": {},
     "source": [
      "Section 1. Statistical Test"
     ]
    },
    {
     "cell_type": "heading",
     "level": 2,
     "metadata": {},
     "source": [
      "1. Which statistical test did you use?"
     ]
    },
    {
     "cell_type": "code",
     "collapsed": false,
     "input": [
      "load mann_whitney_u.py"
     ],
     "language": "python",
     "metadata": {},
     "outputs": [],
     "prompt_number": 1
    },
    {
     "cell_type": "code",
     "collapsed": false,
     "input": [
      "import numpy as np\n",
      "import scipy\n",
      "import scipy.stats\n",
      "import pandas as pd\n",
      "\n",
      "\n",
      "def mann_whitney_plus_means(turnstile_weather):\n",
      "    '''\n",
      "    This function will consume the turnstile_weather dataframe containing our final turnstile-Subway data. This \n",
      "    function should return the mean number of entries with rain, the mean number of entries without rain, and the\n",
      "    Mann-Whitney U statistic and p-value.  You should feel free to use scipy's Mann-Whitney implementation, and also\n",
      "    might find it useful to use numpy's mean function.  Here's some documentation on that:\n",
      "    http://docs.scipy.org/doc/scipy/reference/generated/scipy.stats.mannwhitneyu.html\n",
      "    \n",
      "    You can look at the final turnstile weather data at the link below:\n",
      "    https://www.dropbox.com/s/meyki2wl9xfa7yk/turnstile_data_master_with_weather.csv\n",
      "    http://docs.scipy.org/doc/numpy/reference/generated/numpy.mean.html\n",
      "    '''\n",
      "    dat_wo_rain=  turnstile_weather['ENTRIESn_hourly'][turnstile_weather['rain']==0]  \n",
      "    dat_w_rain= turnstile_weather['ENTRIESn_hourly'][turnstile_weather['rain']==1]\n",
      "    without_rain_mean=np.mean(dat_wo_rain)\n",
      "    with_rain_mean=np.mean(dat_w_rain)\n",
      "    U,p=scipy.stats.mannwhitneyu(dat_w_rain, dat_wo_rain)\n",
      "    return with_rain_mean, without_rain_mean, U, p\n",
      "\n",
      "if __name__ == \"__main__\":\n",
      "    input_filename = \"turnstile_data_master_with_weather.csv\"\n",
      "    turnstile_master = pd.read_csv(input_filename)\n",
      "    student_output = mann_whitney_plus_means(turnstile_master)\n",
      "\n",
      "    print student_output"
     ],
     "language": "python",
     "metadata": {},
     "outputs": [
      {
       "output_type": "stream",
       "stream": "stdout",
       "text": [
        "(1105.4463767458733, 1090.278780151855, 1924409167.0, 0.024999912793489721)\n"
       ]
      }
     ],
     "prompt_number": 2
    },
    {
     "cell_type": "heading",
     "level": 3,
     "metadata": {},
     "source": [
      "The one-sideded p value is .025, correct to 3 places.  The two-sided p value is .05.  Since we choose p critical to be .05, we reject the null hypotheis that the two population are identical.  "
     ]
    },
    {
     "cell_type": "heading",
     "level": 3,
     "metadata": {},
     "source": [
      "Mann_Whitney_U says that the difference in the sample data is significant, that this difference should happen only less than 5% of the time if the null hypothesis is true.  Since the p value is slightly below the border line, we reject the null hypothesis."
     ]
    },
    {
     "cell_type": "heading",
     "level": 2,
     "metadata": {},
     "source": [
      "2. Why is this statistical test appropriate or applicable to the dataset?"
     ]
    },
    {
     "cell_type": "heading",
     "level": 3,
     "metadata": {},
     "source": [
      "It is appropriate because the objective is to test if the population of riders under rain condition is the same as that without rain.  No assumption is made on the underlying distributions for the two populations.  The Mann_Whitney_U test provides the U statistics that has a normal distribution.  We can tell from this test how likely the sample statistics deviate from its mean.  As such, it provides a statistical measure to accept or reject the null hypothesis that the populations are identical."
     ]
    },
    {
     "cell_type": "heading",
     "level": 1,
     "metadata": {},
     "source": [
      "Section 2. Linear Regression"
     ]
    },
    {
     "cell_type": "heading",
     "level": 3,
     "metadata": {},
     "source": [
      "The features used are rain (yes or no), hour(time of day), precipi (amount of rain) and meantempi (mean temperature)."
     ]
    },
    {
     "cell_type": "heading",
     "level": 3,
     "metadata": {},
     "source": [
      "These features are appropriate because they are best guesses on the variabes that affect ridership. We know from Mann_Whitney_U test that rain as compared to no rain is a factor.  The quantity of rain is an appropriat feature because ridership may change significanly in heavy rain.  The hour of day should be an important variable because ridership tends to increase during rush hours. Mean temperature could be a factor since we expect ridership to be affected by outdoor temperature."
     ]
    },
    {
     "cell_type": "code",
     "collapsed": false,
     "input": [
      "load Expanded predictions.py"
     ],
     "language": "python",
     "metadata": {},
     "outputs": [],
     "prompt_number": 2
    },
    {
     "cell_type": "code",
     "collapsed": false,
     "input": [
      "import pandas as pd\n",
      "import numpy as np\n",
      "from ggplot import *\n",
      "def normalize_features(array):\n",
      "   \"\"\"\n",
      "   Normalize the features in our data set.\n",
      "   \"\"\"\n",
      "   array_normalized = (array-array.mean())/array.std()\n",
      "   mu = array.mean()\n",
      "   sigma = array.std()\n",
      "\n",
      "   return array_normalized, mu, sigma\n",
      "\n",
      "def compute_cost(features, values, theta):\n",
      "    \"\"\"\n",
      "    Compute the cost function given a set of features / values, and the values for our thetas.\n",
      "    \n",
      "    This should be the same code as the compute_cost function in the lesson #3 exercises. But\n",
      "    feel free to implement your own.\n",
      "    \"\"\"\n",
      "    return 0.5*(features.dot(theta)-values).dot((features.dot(theta)-values).transpose())\n",
      "    \n",
      "\n",
      "def gradient_descent(features, values, theta, alpha, num_iterations):\n",
      "    \"\"\"\n",
      "    Perform gradient descent given a data set with an arbitrary number of features.\n",
      "    \n",
      "    This is the same gradient descent code as in the lesson #3 exercises. But feel free\n",
      "    to implement your own.\n",
      "    \"\"\"\n",
      "    m = len(values)\n",
      "    cost_history = []\n",
      "\n",
      "    for i in range(num_iterations):\n",
      "        H = features.dot(theta)\n",
      "        theta_t=theta.transpose()\n",
      "        diff = H-values\n",
      "        diff_T= diff.transpose()\n",
      "        p= diff_T.dot(features)*alpha/m\n",
      "        theta=theta_t-p\n",
      "        cost_history.append(compute_cost(features,values,theta))\n",
      "    return theta, pd.Series(cost_history)\n",
      "\n",
      "def predictions(dataframe):\n",
      "    '''\n",
      "    The NYC turnstile data is stored in a pd dataframe called weather_turnstile.\n",
      "    Using the information stored in the dataframe, lets predict the ridership of\n",
      "    the NYC subway using linear regression with gradient descent.\n",
      "    \n",
      "    You can look at information contained in the turnstile weather dataframe \n",
      "    at the link below:\n",
      "    https://www.dropbox.com/s/meyki2wl9xfa7yk/turnstile_data_master_with_weather.csv    \n",
      "    \n",
      "    Your prediction should have a R^2 value of .40 or better.\n",
      "    \n",
      "    Note: due to the memory and CPU limitation of our amazon EC2 instance, we will\n",
      "    give you a random subet (~15%) of the data contained in turnstile_data_master_with_weather.csv\n",
      "    \n",
      "    If you receive a \"server has encountered an error\" message, that means you are hitting \n",
      "    the 30 second  limit that's placed on running your program. Try using a smaller number\n",
      "    for num_iterations if that's the case.\n",
      "    \n",
      "    Or if you are using your own algorithm/modesl, see if you can optimize your code so it\n",
      "    runs faster.\n",
      "    '''\n",
      "\n",
      "    dummy_units = pd.get_dummies(dataframe['UNIT'], prefix='unit')\n",
      "    features = dataframe[['rain', 'precipi', 'Hour', 'meantempi']].join(dummy_units)\n",
      "    values = dataframe[['ENTRIESn_hourly']]\n",
      "    m = len(values)\n",
      "\n",
      "    features, mu, sigma = normalize_features(features)\n",
      "\n",
      "    features['ones'] = np.ones(m)\n",
      "    features_array = np.array(features)\n",
      "    values_array = np.array(values).flatten()\n",
      "\n",
      "    #Set values for alpha, number of iterations.\n",
      "    alpha = 0.1 # please feel free to play with this value\n",
      "    num_iterations = 75 # please feel free to play with this value\n",
      "\n",
      "    #Initialize theta, perform gradient descent\n",
      "    theta_gradient_descent = np.zeros(len(features.columns))\n",
      "    theta_gradient_descent, cost_history = gradient_descent(features_array, values_array, theta_gradient_descent,\n",
      "                                                            alpha, num_iterations)\n",
      "    predictions = np.dot(features_array, theta_gradient_descent)\n",
      "    plot = None\n",
      "    # -------------------------------------------------\n",
      "    # Uncomment the next line to see your cost history\n",
      "    # -------------------------------------------------\n",
      "    plot = plot_cost_history(alpha, cost_history)\n",
      "    # \n",
      "    # Please note, there is a possibility that plotting\n",
      "    # this in addition to your calculation will exceed \n",
      "    # the 30 second limit on the compute servers.\n",
      "    \n",
      "    #predictions = np.dot(features_array, theta_gradient_descent)\n",
      "    return predictions\n",
      "\n",
      "    \n",
      "\n",
      "def compute_r_squared(data, predictions):\n",
      "    SST = ((data-np.mean(data))**2).sum()\n",
      "    SSReg = ((predictions-np.mean(data))**2).sum()\n",
      "    r_squared = SSReg / SST\n",
      "\n",
      "    return r_squared\n",
      "    \n",
      "def plot_cost_history(alpha, cost_history):\n",
      "   \"\"\"This function is for viewing the plot of your cost history.\n",
      "   You can run it by uncommenting this\n",
      "   \n",
      "       plot_cost_history(alpha, cost_history) \n",
      "  \n",
      "   call in predictions.\n",
      "   \n",
      "   If you want to run this locally, you should print the return value\n",
      "   from this function.\n",
      "   \"\"\"\n",
      "   cost_df = pd.DataFrame({\n",
      "      'Cost_History': cost_history,\n",
      "      'Iteration': range(len(cost_history))\n",
      "   })\n",
      "   return ggplot(cost_df, aes('Iteration', 'Cost_History')) + \\\n",
      "      geom_point() + ggtitle('Cost History for alpha = %.3f' % alpha )\n",
      "\n",
      "\n",
      "if __name__ == \"__main__\":\n",
      "    input_filename = \"turnstile_data_master_with_weather.csv\"\n",
      "    turnstile_master = pd.read_csv(input_filename)\n",
      "    predicted_values = predictions(turnstile_master)\n",
      "    r_squared = compute_r_squared(turnstile_master['ENTRIESn_hourly'], predicted_values) \n",
      "\n",
      "    print r_squared"
     ],
     "language": "python",
     "metadata": {},
     "outputs": [
      {
       "output_type": "stream",
       "stream": "stdout",
       "text": [
        "0.457655883385\n"
       ]
      }
     ],
     "prompt_number": 3
    },
    {
     "cell_type": "heading",
     "level": 3,
     "metadata": {},
     "source": [
      "Another model that incorporates day of the week as a categorical variable is added.  The R2 is 0.469.  Slightly better but not great."
     ]
    },
    {
     "cell_type": "code",
     "collapsed": false,
     "input": [
      "load More_regression.py"
     ],
     "language": "python",
     "metadata": {},
     "outputs": [],
     "prompt_number": 1
    },
    {
     "cell_type": "code",
     "collapsed": false,
     "input": [
      "import pandas as pd\n",
      "import numpy as np\n",
      "from ggplot import *\n",
      "def normalize_features(array):\n",
      "   \"\"\"\n",
      "   Normalize the features in our data set.\n",
      "   \"\"\"\n",
      "   array_normalized = (array-array.mean())/array.std()\n",
      "   mu = array.mean()\n",
      "   sigma = array.std()\n",
      "\n",
      "   return array_normalized, mu, sigma\n",
      "\n",
      "def compute_cost(features, values, theta):\n",
      "    \"\"\"\n",
      "    Compute the cost function given a set of features / values, and the values for our thetas.\n",
      "    \"\"\"\n",
      "    return 0.5*(features.dot(theta)-values).dot((features.dot(theta)-values).transpose())\n",
      "    \n",
      "\n",
      "def gradient_descent(features, values, theta, alpha, num_iterations):\n",
      "    \"\"\"\n",
      "    Perform gradient descent given a data set with an arbitrary number of features.\n",
      "   \n",
      "    \"\"\"\n",
      "    m = len(values)\n",
      "    cost_history = []\n",
      "\n",
      "    for i in range(num_iterations):\n",
      "        H = features.dot(theta)\n",
      "        theta_t=theta.transpose()\n",
      "        diff = H-values\n",
      "        diff_T= diff.transpose()\n",
      "        p= diff_T.dot(features)*alpha/m\n",
      "        theta=theta_t-p\n",
      "        cost_history.append(compute_cost(features,values,theta))\n",
      "       \n",
      "    return theta, pd.Series(cost_history)\n",
      "\n",
      "def predictions(dataframe):\n",
      "    \n",
      "    my_data=dataframe[['datetime','rain']].copy()\n",
      "    my_data.loc[:,'datetime']=pd.to_datetime(my_data['datetime'])\n",
      "    dataframe.loc[:,'weekday']=my_data['datetime'].dt.weekday\n",
      "    dummy_units = pd.get_dummies(dataframe['UNIT'], prefix='unit')\n",
      "    features = dataframe[['rain', 'precipi', 'Hour', 'meantempi']].join(dummy_units)\n",
      "    dummy_units = pd.get_dummies(dataframe['weekday'],prefix='weekday')\n",
      "    features = features.join(dummy_units)\n",
      "    values = dataframe[['ENTRIESn_hourly']]\n",
      "    m = len(values)\n",
      "\n",
      "    features, mu, sigma = normalize_features(features)\n",
      "\n",
      "    features['ones'] = np.ones(m)\n",
      "    features_array = np.array(features)\n",
      "    values_array = np.array(values).flatten()\n",
      "\n",
      "    #Set values for alpha, number of iterations.\n",
      "    alpha = 0.1 # please feel free to play with this value\n",
      "    num_iterations = 75 # please feel free to play with this value\n",
      "\n",
      "    #Initialize theta, perform gradient descent\n",
      "    theta_gradient_descent = np.zeros(len(features.columns))\n",
      "    theta_gradient_descent, cost_history = gradient_descent(features_array, values_array, theta_gradient_descent,\n",
      "                                                            alpha, num_iterations)\n",
      "    \n",
      "    predictions = np.dot(features_array, theta_gradient_descent)\n",
      "    \n",
      "    \n",
      "    return predictions\n",
      "\n",
      "    \n",
      "\n",
      "def compute_r_squared(data, predictions):\n",
      "    SST = ((data-np.mean(data))**2).sum()\n",
      "    SSReg = ((predictions-np.mean(data))**2).sum()\n",
      "    r_squared = SSReg / SST\n",
      "\n",
      "    return r_squared\n",
      "    \n",
      "def plot_cost_history(alpha, cost_history):\n",
      "   \n",
      "   cost_df = pd.DataFrame({\n",
      "      'Cost_History': cost_history,\n",
      "      'Iteration': range(len(cost_history))\n",
      "   })\n",
      "   return ggplot(cost_df, aes('Iteration', 'Cost_History')) + \\\n",
      "      geom_point() + ggtitle('Cost History for alpha = %.3f' % alpha )\n",
      "\"\"\"\n",
      "Weekday is added as a categorical variable in this regression\n",
      "\"\"\"\n",
      "\n",
      "if __name__ == \"__main__\":\n",
      "    input_filename = \"turnstile_data_master_with_weather.csv\"\n",
      "    turnstile_master = pd.read_csv(input_filename)\n",
      "    turnstile_master['datetime'] = turnstile_master['DATEn'] + ' ' + turnstile_master['TIMEn']\n",
      "    predicted_values = predictions(turnstile_master)\n",
      "    r_squared = compute_r_squared(turnstile_master['ENTRIESn_hourly'], predicted_values) \n",
      "\n",
      "    print 'r-squared = %s' %(r_squared)"
     ],
     "language": "python",
     "metadata": {},
     "outputs": [
      {
       "output_type": "stream",
       "stream": "stdout",
       "text": [
        "r-squared = 0.469856616546\n"
       ]
      }
     ],
     "prompt_number": 2
    },
    {
     "cell_type": "raw",
     "metadata": {},
     "source": [
      "R2 varies from 1 to 0.  The best fit is 1. The best R2 I got is 0.469.  The model could be improved by using higher order features (for example rain squared or rain multiplied by temperature).  "
     ]
    },
    {
     "cell_type": "heading",
     "level": 1,
     "metadata": {},
     "source": [
      "Section 3. Visualization"
     ]
    },
    {
     "cell_type": "heading",
     "level": 2,
     "metadata": {},
     "source": [
      "1. One visualization should be two histograms of ENTRIESn_hourly for rainy days and non-rainy days"
     ]
    },
    {
     "cell_type": "code",
     "collapsed": false,
     "input": [
      "%matplotlib inline"
     ],
     "language": "python",
     "metadata": {},
     "outputs": [],
     "prompt_number": 1
    },
    {
     "cell_type": "code",
     "collapsed": false,
     "input": [
      "load plot_histogram Update 1.py"
     ],
     "language": "python",
     "metadata": {},
     "outputs": [],
     "prompt_number": 4
    },
    {
     "cell_type": "code",
     "collapsed": false,
     "input": [
      "import numpy as np\n",
      "import pandas as pd\n",
      "import matplotlib.pyplot as plt\n",
      "from ggplot import *\n",
      "\n",
      "\n",
      "def entries_histogram(turnstile_weather):\n",
      "    \n",
      "    plt.figure()\n",
      "    no_rain_data=turnstile_weather['ENTRIESn_hourly'][turnstile_weather['rain']==0]\n",
      "    no_rain_data.hist(bins=[250,500,750,1000,1250,1500,1725,2000,2250,2500,2750,3000,3250,3500,3750,4000]) \n",
      "    rain_data=turnstile_weather['ENTRIESn_hourly'][turnstile_weather['rain']==1]\n",
      "    rain_data.hist(bins=[250,500,750,1000,1250,1500,1725,2000,2250,2500,2750,3000,3250,3500,3750,4000]) \n",
      "    \n",
      "    plt.xlabel('ENTRIESn_hourly')\n",
      "    plt.ylabel('Frequency')\n",
      "    plt.legend(('no Rain', 'rain'),loc='upper right')\n",
      "    plt.show()\n",
      "    print 'No rain Average Entries = {0}'.format(no_rain_data.mean())\n",
      "    print 'Rain Average Entries = {0}'.format(rain_data.mean())\n",
      "\n",
      "    return plt\n",
      "\n",
      "\n",
      "if __name__ == \"__main__\":\n",
      "    image = \"plot.png\"\n",
      "    turnstile_weather = pd.read_csv(\"turnstile_data_master_with_weather.csv\")\n",
      "    plt = entries_histogram(turnstile_weather)\n",
      "    "
     ],
     "language": "python",
     "metadata": {},
     "outputs": [
      {
       "metadata": {},
       "output_type": "display_data",
       "png": "[encoded data removed]",
       "text": [
        "<matplotlib.figure.Figure at 0x108037c90>"
       ]
      },
      {
       "output_type": "stream",
       "stream": "stdout",
       "text": [
        "No rain Average Entries = 1090.27878015\n",
        "Rain Average Entries = 1105.44637675\n"
       ]
      }
     ],
     "prompt_number": 2
    },
    {
     "cell_type": "heading",
     "level": 2,
     "metadata": {},
     "source": [
      "2. Ridership by Day of the Week"
     ]
    },
    {
     "cell_type": "code",
     "collapsed": false,
     "input": [
      "load data_visualization_5.py"
     ],
     "language": "python",
     "metadata": {},
     "outputs": [],
     "prompt_number": 8
    },
    {
     "cell_type": "code",
     "collapsed": false,
     "input": [
      "import pandas as pd\n",
      "import numpy as np\n",
      "import matplotlib\n",
      "from ggplot import *\n",
      "\n",
      "def plot_weather_data(turnstile_weather):\n",
      "    ''' \n",
      "    Use ggplot to make another data visualization focused on the MTA and weather\n",
      "    data \n",
      "    '''\n",
      "#    ride_by_week =pd.DataFrame(columns=['weekday','hourly_avg'])\n",
      "#    ride_by_week['weekday']=list(range(7))\n",
      "    avg_rides=[]\n",
      "    \n",
      "    turnstile_weather['datetime']=pd.to_datetime(turnstile_weather['datetime'])\n",
      "    turnstile_weather['weekday']=turnstile_weather['datetime'].dt.weekday\n",
      "\n",
      "    for i in range(7):\n",
      "        avg_rides.append((turnstile_weather['ENTRIESn_hourly'][turnstile_weather['weekday'] == i]).mean())\n",
      "    \n",
      "    ride_by_week=pd.DataFrame({'weekday':range(7),'hourly_avg':avg_rides})  \n",
      "    \n",
      "    plot = (ggplot(ride_by_week, aes(x='weekday', y='hourly_avg'))\\\n",
      "    +geom_bar(position='stack', stat='identity', fill='lightblue', color='blue')\\\n",
      "    + ggtitle(\"Avg Hourly Entries By Day of Week, Mon=0\") + xlab('Day of the Week') \\\n",
      "    + ylab('Avg Hourly Entries'))\n",
      "    return plot\n",
      "\n",
      "if __name__ == \"__main__\":\n",
      "    image = \"plot.png\"\n",
      "    \n",
      "    turnstile_weather = pd.read_csv('turnstile_data_master_with_weather.csv')\n",
      "    turnstile_weather['datetime'] = turnstile_weather['DATEn'] + ' ' + turnstile_weather['TIMEn']\n",
      "    print plot_weather_data(turnstile_weather)\n",
      "    "
     ],
     "language": "python",
     "metadata": {},
     "outputs": [
      {
       "metadata": {},
       "output_type": "display_data",
       "png": "[encoded data removed]",
       "text": [
        "<matplotlib.figure.Figure at 0x10da10790>"
       ]
      },
      {
       "output_type": "stream",
       "stream": "stdout",
       "text": [
        "<ggplot: (282732909)>\n"
       ]
      }
     ],
     "prompt_number": 9
    },
    {
     "cell_type": "heading",
     "level": 1,
     "metadata": {},
     "source": [
      "Section 4. Conclusion"
     ]
    },
    {
     "cell_type": "heading",
     "level": 3,
     "metadata": {},
     "source": [
      "The analysis done so far says that the distribution of ridership when it rains is different from not raining, but no conclusion can be drawn on whether more people ride the subway when it rains.  Subway ridership is determined by a large number of vairables: time of the day, day of the week, rain, temperature, special events and others.  For example, the plot above shows that average hourly entries vary by day of the week.  The analysis needs to hold all other factors constant, except for rain and no-rain, before a conclusion can be drawn."
     ]
    },
    {
     "cell_type": "heading",
     "level": 3,
     "metadata": {},
     "source": [
      "We have 30 days of data in which about 1/3 has rain and 2/3 otherwsie.  We know rain and no-rain have different distrbutions and such difference cannot be explained by the sample data.  We know the histograms look different.  Also, ridership varies significantly by the day of the week.  Plotting ENTRIESn_hourly by weekday and rain versus no rain (see below) shows that on weekdays, ridership tends to be higher on dry days and vice versa on weekends.  The red line in the plot below is for dry days and blue for wet ones.  However, one cannot conclude that more people ride the subway on weekdays when it is not raining because the data doesn't have granularity by the hour.  If it rained an hour on a certain day, the whole day was marked as a rainy day.  It is possible that people do prefer the subway during the hours of rain, but less so for the rest of the day.  Our data doesn't provide that level of details."
     ]
    },
    {
     "cell_type": "code",
     "collapsed": false,
     "input": [
      "load data_visualization_8.py"
     ],
     "language": "python",
     "metadata": {},
     "outputs": [],
     "prompt_number": 1
    },
    {
     "cell_type": "code",
     "collapsed": false,
     "input": [
      "import pandas as pd\n",
      "import numpy as np\n",
      "import matplotlib\n",
      "from ggplot import *\n",
      "\n",
      "def plot_weather_data(turnstile_weather):\n",
      "    \n",
      "#    ride_by_week =pd.DataFrame(columns=['weekday','hourly_avg'])\n",
      "#    ride_by_week['weekday']=list(range(7))\n",
      "   \n",
      "    my_data=turnstile_weather[['ENTRIESn_hourly','datetime','rain']].copy()\n",
      "    my_data.loc[:,'datetime']=pd.to_datetime(my_data['datetime'])\n",
      "    my_data.loc[:,'weekday']=my_data['datetime'].dt.weekday\n",
      "\n",
      "    gp_data=my_data.groupby(['weekday','rain'],as_index=False).mean()\n",
      "    rain_data=gp_data[['weekday','ENTRIESn_hourly']][gp_data['rain']==1]\n",
      "    dry_data=gp_data[['weekday','ENTRIESn_hourly']][gp_data['rain']==0]\n",
      "    \n",
      "    \n",
      "    x=1\n",
      "    return (ggplot(rain_data, aes(x='weekday', y='ENTRIESn_hourly',))\\\n",
      "    +geom_line(color='blue')+geom_line(dry_data,color='red')\\\n",
      "    + ggtitle('Avg Hourly Entries By rain By Day of Week') + xlab('Weekday') \\\n",
      "    + ylab('Avg Hourly Entries'))\n",
      "    \n",
      "\n",
      "if __name__ == \"__main__\":\n",
      "    image = \"plot.png\"\n",
      "    \n",
      "    turnstile_weather = pd.read_csv('turnstile_data_master_with_weather.csv')\n",
      "    turnstile_weather['datetime'] = turnstile_weather['DATEn'] + ' ' + turnstile_weather['TIMEn']\n",
      "    gg= plot_weather_data(turnstile_weather)\n",
      "    print gg\n",
      "    ggsave(image,gg, width=11,height=8)\n",
      "    "
     ],
     "language": "python",
     "metadata": {},
     "outputs": [
      {
       "metadata": {},
       "output_type": "display_data",
       "png": "[encoded data removed]",
       "text": [
        "<matplotlib.figure.Figure at 0x10ca74ad0>"
       ]
      },
      {
       "output_type": "stream",
       "stream": "stdout",
       "text": [
        "<ggplot: (281703581)>\n"
       ]
      }
     ],
     "prompt_number": 2
    },
    {
     "cell_type": "heading",
     "level": 2,
     "metadata": {},
     "source": [
      "Section 5. Observation"
     ]
    },
    {
     "cell_type": "heading",
     "level": 3,
     "metadata": {},
     "source": [
      "As discussed above, the dataset doesn't have enough granularity to answer the question of whether people ride NYC subway more when it rains.  Hour to hour rain data is needed.  Furthermore, the dataset is limited to the month of May.  Additional data from other rainy months can help make observations more conclusive.\n",
      "\n",
      "The highest R2 obtained from linear regression is not that good.  If the objective is to predict ridership as a function of weather, one could aggregate ridership over all turnstiles and regress on hour, time of the day, rain, precipation, temperature and other features. Using time of the day as a quantitative variable is problematic.  One may explore using a trigonometric or polynomial function for this feature.  Other techniques such as Principal Componet Analysis could be used to find a better starter feature set."
     ]
    }
   ],
   "metadata": {}
  }
 ]
}